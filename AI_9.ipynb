{
  "nbformat": 4,
  "nbformat_minor": 0,
  "metadata": {
    "colab": {
      "provenance": []
    },
    "kernelspec": {
      "name": "python3",
      "display_name": "Python 3"
    },
    "language_info": {
      "name": "python"
    }
  },
  "cells": [
    {
      "cell_type": "markdown",
      "source": [],
      "metadata": {
        "id": "Dh2jKcaYMXAM"
      }
    },
    {
      "cell_type": "code",
      "source": [
        "from collections import deque\n",
        "\n",
        "def pour_water_bfs(jug1_capacity, jug2_capacity, target):\n",
        "    visited = set()\n",
        "    queue = deque([(0, 0, [])])\n",
        "    while queue:\n",
        "        jug1_amount, jug2_amount, steps = queue.popleft()\n",
        "        if (jug1_amount, jug2_amount) in visited:\n",
        "            continue\n",
        "        visited.add((jug1_amount, jug2_amount))\n",
        "        if jug1_amount == target or jug2_amount == target:\n",
        "            return steps\n",
        "        queue.append((jug1_capacity, jug2_amount, steps + [(jug1_capacity, jug2_amount)]))\n",
        "        queue.append((jug1_amount, jug2_capacity, steps + [(jug1_amount, jug2_capacity)]))\n",
        "\n",
        "        queue.append((0, jug2_amount, steps + [(0, jug2_amount)]))\n",
        "        queue.append((jug1_amount, 0, steps + [(jug1_amount, 0)]))\n",
        "        amount = min(jug1_amount, jug2_capacity - jug2_amount)\n",
        "        queue.append((jug1_amount - amount, jug2_amount + amount, steps + [(jug1_amount - amount, jug2_amount + amount)]))\n",
        "        amount = min(jug2_amount, jug1_capacity - jug1_amount)\n",
        "        queue.append((jug1_amount + amount, jug2_amount - amount, steps + [(jug1_amount + amount, jug2_amount - amount)]))\n",
        "    return None\n",
        "\n",
        "def pour_water_recursive(jug1_capacity, jug2_capacity, jug1_amount, jug2_amount, target, visited=None, steps=None):\n",
        "    if visited is None:\n",
        "        visited = set()\n",
        "    if steps is None:\n",
        "        steps = []\n",
        "\n",
        "    if jug1_amount == target or jug2_amount == target:\n",
        "        return steps\n",
        "\n",
        "    if (jug1_amount, jug2_amount) in visited:\n",
        "        return None\n",
        "\n",
        "    visited.add((jug1_amount, jug2_amount))\n",
        "\n",
        "    steps1 = pour_water_recursive(jug1_capacity, jug2_capacity, jug1_capacity, jug2_amount, target, visited, steps + [(jug1_capacity, jug2_amount)])\n",
        "    if steps1:\n",
        "        return steps1\n",
        "    steps2 = pour_water_recursive(jug1_capacity, jug2_capacity, jug1_amount, jug2_capacity, target, visited, steps + [(jug1_amount, jug2_capacity)])\n",
        "    if steps2:\n",
        "        return steps2\n",
        "    steps3 = pour_water_recursive(jug1_capacity, jug2_capacity, 0, jug2_amount, target, visited, steps + [(0, jug2_amount)])\n",
        "    if steps3:\n",
        "        return steps3\n",
        "\n",
        "    steps4 = pour_water_recursive(jug1_capacity, jug2_capacity, jug1_amount, 0, target, visited, steps + [(jug1_amount, 0)])\n",
        "    if steps4:\n",
        "        return steps4\n",
        "    amount = min(jug1_amount, jug2_capacity - jug2_amount)\n",
        "    steps5 = pour_water_recursive(jug1_capacity, jug2_capacity, jug1_amount - amount, jug2_amount + amount, target, visited, steps + [(jug1_amount - amount, jug2_amount + amount)])\n",
        "    if steps5:\n",
        "        return steps5\n",
        "\n",
        "    #from jug2 to jug1\n",
        "    amount = min(jug2_amount, jug1_capacity - jug1_amount)\n",
        "    steps6 = pour_water_recursive(jug1_capacity, jug2_capacity, jug1_amount + amount, jug2_amount - amount, target, visited, steps + [(jug1_amount + amount, jug2_amount - amount)])\n",
        "    if steps6:\n",
        "        return steps6\n",
        "\n",
        "    return None\n",
        "\n",
        "def main():\n",
        "    jug1_capacity = 3\n",
        "    jug2_capacity = 5\n",
        "    target = 4\n",
        "\n",
        "    print(\"BFS:\")\n",
        "    steps_bfs = pour_water_bfs(jug1_capacity, jug2_capacity, target)\n",
        "    if steps_bfs:\n",
        "        print(f\"Steps: {steps_bfs}\")\n",
        "    else:\n",
        "        print(\"Goal state not reachable.\")\n",
        "\n",
        "    print(\"\\nRecursion Method:\")\n",
        "    steps_recursive = pour_water_recursive(jug1_capacity, jug2_capacity, 0, 0, target)\n",
        "    if steps_recursive:\n",
        "        print(f\"Steps: {steps_recursive}\")\n",
        "    else:\n",
        "        print(\"Goal state not reachable.\")\n",
        "\n",
        "if __name__ == \"__main__\":\n",
        "    main()"
      ],
      "metadata": {
        "colab": {
          "base_uri": "https://localhost:8080/"
        },
        "id": "U6FvVpcWRJGj",
        "outputId": "0e20c640-5def-4fc2-cf71-4aedce3865e7"
      },
      "execution_count": 27,
      "outputs": [
        {
          "output_type": "stream",
          "name": "stdout",
          "text": [
            "BFS:\n",
            "Steps: [(0, 5), (3, 2), (0, 2), (2, 0), (2, 5), (3, 4)]\n",
            "\n",
            "Recursion Method:\n",
            "Steps: [(3, 0), (3, 5), (0, 5), (3, 2), (0, 2), (2, 0), (2, 5), (3, 4)]\n"
          ]
        }
      ]
    }
  ]
}