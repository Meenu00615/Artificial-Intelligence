{
  "nbformat": 4,
  "nbformat_minor": 0,
  "metadata": {
    "colab": {
      "provenance": []
    },
    "kernelspec": {
      "name": "python3",
      "display_name": "Python 3"
    },
    "language_info": {
      "name": "python"
    }
  },
  "cells": [
    {
      "cell_type": "markdown",
      "source": [
        "# AIM: Write a program to implement the Hangman game using python."
      ],
      "metadata": {
        "id": "LpouU1mRR4ei"
      }
    },
    {
      "cell_type": "code",
      "source": [
        "import random\n",
        "\n",
        "def choose_word():\n",
        "    words = [\"python\", \"hangman\", \"problem\", \"meenu\", \"patel\", \"goal\", \"dsa\"]\n",
        "    return random.choice(words)\n",
        "\n",
        "def display_word(word, guessed_letters):\n",
        "    displayed_word = \"\"\n",
        "    for letter in word:\n",
        "        if letl\n",
        "        ter in guessed_letters:\n",
        "            displayed_word += letter\n",
        "        else:\n",
        "            displayed_word += \"_\"\n",
        "    return displayed_word\n",
        "\n",
        "def hangman():\n",
        "    word_to_guess = choose_word()\n",
        "    guessed_letters = []\n",
        "    attempts = 6\n",
        "\n",
        "    print(\"Welcome Meenu!\")\n",
        "    print(\"Try to guess the word.\")\n",
        "\n",
        "    while attempts > 0:\n",
        "        print(\"\\nWord:\", display_word(word_to_guess, guessed_letters))\n",
        "        print(\"Attempts left:\", attempts)\n",
        "        guess = input(\"Enter a letter: \").lower()\n",
        "\n",
        "        if len(guess) != 1 or not guess.isalpha():\n",
        "            print(\"Please enter a single letter.\")\n",
        "            continue\n",
        "\n",
        "        if guess in guessed_letters:\n",
        "            print(\"You've already guessed that letter.\")\n",
        "            continue\n",
        "\n",
        "        guessed_letters.append(guess)\n",
        "\n",
        "        if guess not in word_to_guess:\n",
        "            print(\"Incorrect!\")\n",
        "            attempts -= 1\n",
        "        else:\n",
        "            print(\"Correct!\")\n",
        "\n",
        "        if all(letter in guessed_letters for letter in word_to_guess):\n",
        "            print(\"\\nCongratulations! You guessed the word:\", word_to_guess)\n",
        "            break\n",
        "\n",
        "    if attempts == 0:\n",
        "        print(\"\\nSorry, you ran out of attempts. The word was:\", word_to_guess)\n",
        "\n",
        "hangman()"
      ],
      "metadata": {
        "colab": {
          "base_uri": "https://localhost:8080/"
        },
        "id": "X_ABGUK7RCf8",
        "outputId": "f0fb1205-25a3-44ce-fd21-c245faf28c81"
      },
      "execution_count": null,
      "outputs": [
        {
          "output_type": "stream",
          "name": "stdout",
          "text": [
            "Welcome Meenu!\n",
            "Try to guess the word.\n",
            "\n",
            "Word: _____\n",
            "Attempts left: 6\n",
            "Enter a letter: p\n",
            "Correct!\n",
            "\n",
            "Word: p____\n",
            "Attempts left: 6\n",
            "Enter a letter: a\n",
            "Correct!\n",
            "\n",
            "Word: pa___\n",
            "Attempts left: 6\n",
            "Enter a letter: t\n",
            "Correct!\n",
            "\n",
            "Word: pat__\n",
            "Attempts left: 6\n",
            "Enter a letter: e\n",
            "Correct!\n",
            "\n",
            "Word: pate_\n",
            "Attempts left: 6\n",
            "Enter a letter: l\n",
            "Correct!\n",
            "\n",
            "Congratulations! You guessed the word: patel\n"
          ]
        }
      ]
    }
  ]
}