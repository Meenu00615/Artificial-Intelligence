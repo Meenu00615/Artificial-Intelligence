{
  "nbformat": 4,
  "nbformat_minor": 0,
  "metadata": {
    "colab": {
      "provenance": []
    },
    "kernelspec": {
      "name": "python3",
      "display_name": "Python 3"
    },
    "language_info": {
      "name": "python"
    }
  },
  "cells": [
    {
      "cell_type": "code",
      "execution_count": 1,
      "metadata": {
        "colab": {
          "base_uri": "https://localhost:8080/"
        },
        "id": "tQ00KDgwwO38",
        "outputId": "34287b12-1d99-4b90-8b34-7ec49e2bc6f8"
      },
      "outputs": [
        {
          "output_type": "stream",
          "name": "stdout",
          "text": [
            "Current State: {'monkey': 'floor', 'block': 'center', 'banana': 'hanging'}\n",
            "Enter action (climb, push, drag, walk, grasp): climb\n",
            "Current State: {'monkey': 'on block', 'block': 'center', 'banana': 'hanging'}\n",
            "Enter action (climb, push, drag, walk, grasp): push\n",
            "Current State: {'monkey': 'on block', 'block': 'center', 'banana': 'hanging'}\n",
            "Enter action (climb, push, drag, walk, grasp): drag\n",
            "Current State: {'monkey': 'on block', 'block': 'center', 'banana': 'hanging'}\n",
            "Enter action (climb, push, drag, walk, grasp): walk\n",
            "Current State: {'monkey': 'on block', 'block': 'center', 'banana': 'hanging'}\n",
            "Enter action (climb, push, drag, walk, grasp): grasp\n",
            "Monkey has got the banana!\n"
          ]
        }
      ],
      "source": [
        "#defining the class\n",
        "class MonkeyBananaProblem:\n",
        "    #states\n",
        "    def __init__(self):\n",
        "        self.state = {'monkey': 'floor', 'block': 'center', 'banana': 'hanging'}\n",
        "    #defining the execution function\n",
        "    def execute_action(self, action):\n",
        "      #all state info in the loop form\n",
        "        if action == 'climb':\n",
        "            if self.state['monkey'] == 'floor' and self.state['block'] == 'center':\n",
        "                self.state['monkey'] = 'on block'\n",
        "        elif action == 'push' or action == 'drag':\n",
        "            if self.state['monkey'] == 'on block':\n",
        "                self.state['block'] = 'center'\n",
        "        elif action == 'walk':\n",
        "            if self.state['monkey'] == 'floor':\n",
        "                self.state['monkey'] = 'floor'\n",
        "        elif action == 'grasp':\n",
        "            if self.state['monkey'] == 'on block' and self.state['block'] == 'center' and self.state['banana'] == 'hanging':\n",
        "                self.state['banana'] = 'grasped'\n",
        "    #final state of the monkey\n",
        "    def can_get(self):\n",
        "        return self.state['banana'] == 'grasped'\n",
        "\n",
        "def main():\n",
        "    problem = MonkeyBananaProblem()\n",
        "    #action must go like this\n",
        "    actions = ['climb', 'push', 'drag', 'walk', 'grasp']\n",
        "    #loop for not getting into the right state\n",
        "    while not problem.can_get():\n",
        "        print(\"Current State:\", problem.state)\n",
        "        action = input(\"Enter action (climb, push, drag, walk, grasp): \").strip().lower()\n",
        "        if action not in actions:\n",
        "           #show invalid\n",
        "            print(\"Invalid action, please try again.\")\n",
        "            continue\n",
        "        problem.execute_action(action)\n",
        "gra\n",
        "    print(\"Monkey has got the banana!\")\n",
        "if __name__ == \"__main__\":\n",
        "    main()"
      ]
    }
  ]
}